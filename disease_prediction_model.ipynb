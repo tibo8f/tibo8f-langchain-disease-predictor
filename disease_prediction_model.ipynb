{
 "cells": [
  {
   "cell_type": "markdown",
   "metadata": {},
   "source": [
    "# Neural network disease prediction model"
   ]
  },
  {
   "cell_type": "markdown",
   "metadata": {},
   "source": [
    "# Importer les bibliothèques nécessaires"
   ]
  },
  {
   "cell_type": "code",
   "execution_count": 102,
   "metadata": {},
   "outputs": [],
   "source": [
    "import pandas as pd\n",
    "import numpy as np\n",
    "from sklearn.model_selection import train_test_split\n",
    "from sklearn.preprocessing import LabelEncoder, OneHotEncoder\n",
    "import tensorflow as tf\n",
    "from tensorflow.keras.models import Sequential\n",
    "from tensorflow.keras.layers import Dense, Dropout"
   ]
  },
  {
   "cell_type": "markdown",
   "metadata": {},
   "source": [
    "# Charger les datasets"
   ]
  },
  {
   "cell_type": "code",
   "execution_count": 103,
   "metadata": {},
   "outputs": [
    {
     "data": {
      "text/html": [
       "<div>\n",
       "<style scoped>\n",
       "    .dataframe tbody tr th:only-of-type {\n",
       "        vertical-align: middle;\n",
       "    }\n",
       "\n",
       "    .dataframe tbody tr th {\n",
       "        vertical-align: top;\n",
       "    }\n",
       "\n",
       "    .dataframe thead th {\n",
       "        text-align: right;\n",
       "    }\n",
       "</style>\n",
       "<table border=\"1\" class=\"dataframe\">\n",
       "  <thead>\n",
       "    <tr style=\"text-align: right;\">\n",
       "      <th></th>\n",
       "      <th>Disease</th>\n",
       "      <th>Symptom_1</th>\n",
       "      <th>Symptom_2</th>\n",
       "      <th>Symptom_3</th>\n",
       "      <th>Symptom_4</th>\n",
       "      <th>Symptom_5</th>\n",
       "      <th>Symptom_6</th>\n",
       "      <th>Symptom_7</th>\n",
       "      <th>Symptom_8</th>\n",
       "      <th>Symptom_9</th>\n",
       "      <th>Symptom_10</th>\n",
       "      <th>Symptom_11</th>\n",
       "      <th>Symptom_12</th>\n",
       "      <th>Symptom_13</th>\n",
       "      <th>Symptom_14</th>\n",
       "      <th>Symptom_15</th>\n",
       "      <th>Symptom_16</th>\n",
       "      <th>Symptom_17</th>\n",
       "    </tr>\n",
       "  </thead>\n",
       "  <tbody>\n",
       "    <tr>\n",
       "      <th>0</th>\n",
       "      <td>Fungal infection</td>\n",
       "      <td>itching</td>\n",
       "      <td>skin_rash</td>\n",
       "      <td>nodal_skin_eruptions</td>\n",
       "      <td>dischromic _patches</td>\n",
       "      <td>NaN</td>\n",
       "      <td>NaN</td>\n",
       "      <td>NaN</td>\n",
       "      <td>NaN</td>\n",
       "      <td>NaN</td>\n",
       "      <td>NaN</td>\n",
       "      <td>NaN</td>\n",
       "      <td>NaN</td>\n",
       "      <td>NaN</td>\n",
       "      <td>NaN</td>\n",
       "      <td>NaN</td>\n",
       "      <td>NaN</td>\n",
       "      <td>NaN</td>\n",
       "    </tr>\n",
       "    <tr>\n",
       "      <th>1</th>\n",
       "      <td>Fungal infection</td>\n",
       "      <td>skin_rash</td>\n",
       "      <td>nodal_skin_eruptions</td>\n",
       "      <td>dischromic _patches</td>\n",
       "      <td>NaN</td>\n",
       "      <td>NaN</td>\n",
       "      <td>NaN</td>\n",
       "      <td>NaN</td>\n",
       "      <td>NaN</td>\n",
       "      <td>NaN</td>\n",
       "      <td>NaN</td>\n",
       "      <td>NaN</td>\n",
       "      <td>NaN</td>\n",
       "      <td>NaN</td>\n",
       "      <td>NaN</td>\n",
       "      <td>NaN</td>\n",
       "      <td>NaN</td>\n",
       "      <td>NaN</td>\n",
       "    </tr>\n",
       "    <tr>\n",
       "      <th>2</th>\n",
       "      <td>Fungal infection</td>\n",
       "      <td>itching</td>\n",
       "      <td>nodal_skin_eruptions</td>\n",
       "      <td>dischromic _patches</td>\n",
       "      <td>NaN</td>\n",
       "      <td>NaN</td>\n",
       "      <td>NaN</td>\n",
       "      <td>NaN</td>\n",
       "      <td>NaN</td>\n",
       "      <td>NaN</td>\n",
       "      <td>NaN</td>\n",
       "      <td>NaN</td>\n",
       "      <td>NaN</td>\n",
       "      <td>NaN</td>\n",
       "      <td>NaN</td>\n",
       "      <td>NaN</td>\n",
       "      <td>NaN</td>\n",
       "      <td>NaN</td>\n",
       "    </tr>\n",
       "    <tr>\n",
       "      <th>3</th>\n",
       "      <td>Fungal infection</td>\n",
       "      <td>itching</td>\n",
       "      <td>skin_rash</td>\n",
       "      <td>dischromic _patches</td>\n",
       "      <td>NaN</td>\n",
       "      <td>NaN</td>\n",
       "      <td>NaN</td>\n",
       "      <td>NaN</td>\n",
       "      <td>NaN</td>\n",
       "      <td>NaN</td>\n",
       "      <td>NaN</td>\n",
       "      <td>NaN</td>\n",
       "      <td>NaN</td>\n",
       "      <td>NaN</td>\n",
       "      <td>NaN</td>\n",
       "      <td>NaN</td>\n",
       "      <td>NaN</td>\n",
       "      <td>NaN</td>\n",
       "    </tr>\n",
       "    <tr>\n",
       "      <th>4</th>\n",
       "      <td>Fungal infection</td>\n",
       "      <td>itching</td>\n",
       "      <td>skin_rash</td>\n",
       "      <td>nodal_skin_eruptions</td>\n",
       "      <td>NaN</td>\n",
       "      <td>NaN</td>\n",
       "      <td>NaN</td>\n",
       "      <td>NaN</td>\n",
       "      <td>NaN</td>\n",
       "      <td>NaN</td>\n",
       "      <td>NaN</td>\n",
       "      <td>NaN</td>\n",
       "      <td>NaN</td>\n",
       "      <td>NaN</td>\n",
       "      <td>NaN</td>\n",
       "      <td>NaN</td>\n",
       "      <td>NaN</td>\n",
       "      <td>NaN</td>\n",
       "    </tr>\n",
       "    <tr>\n",
       "      <th>...</th>\n",
       "      <td>...</td>\n",
       "      <td>...</td>\n",
       "      <td>...</td>\n",
       "      <td>...</td>\n",
       "      <td>...</td>\n",
       "      <td>...</td>\n",
       "      <td>...</td>\n",
       "      <td>...</td>\n",
       "      <td>...</td>\n",
       "      <td>...</td>\n",
       "      <td>...</td>\n",
       "      <td>...</td>\n",
       "      <td>...</td>\n",
       "      <td>...</td>\n",
       "      <td>...</td>\n",
       "      <td>...</td>\n",
       "      <td>...</td>\n",
       "      <td>...</td>\n",
       "    </tr>\n",
       "    <tr>\n",
       "      <th>4915</th>\n",
       "      <td>(vertigo) Paroymsal  Positional Vertigo</td>\n",
       "      <td>vomiting</td>\n",
       "      <td>headache</td>\n",
       "      <td>nausea</td>\n",
       "      <td>spinning_movements</td>\n",
       "      <td>loss_of_balance</td>\n",
       "      <td>unsteadiness</td>\n",
       "      <td>NaN</td>\n",
       "      <td>NaN</td>\n",
       "      <td>NaN</td>\n",
       "      <td>NaN</td>\n",
       "      <td>NaN</td>\n",
       "      <td>NaN</td>\n",
       "      <td>NaN</td>\n",
       "      <td>NaN</td>\n",
       "      <td>NaN</td>\n",
       "      <td>NaN</td>\n",
       "      <td>NaN</td>\n",
       "    </tr>\n",
       "    <tr>\n",
       "      <th>4916</th>\n",
       "      <td>Acne</td>\n",
       "      <td>skin_rash</td>\n",
       "      <td>pus_filled_pimples</td>\n",
       "      <td>blackheads</td>\n",
       "      <td>scurring</td>\n",
       "      <td>NaN</td>\n",
       "      <td>NaN</td>\n",
       "      <td>NaN</td>\n",
       "      <td>NaN</td>\n",
       "      <td>NaN</td>\n",
       "      <td>NaN</td>\n",
       "      <td>NaN</td>\n",
       "      <td>NaN</td>\n",
       "      <td>NaN</td>\n",
       "      <td>NaN</td>\n",
       "      <td>NaN</td>\n",
       "      <td>NaN</td>\n",
       "      <td>NaN</td>\n",
       "    </tr>\n",
       "    <tr>\n",
       "      <th>4917</th>\n",
       "      <td>Urinary tract infection</td>\n",
       "      <td>burning_micturition</td>\n",
       "      <td>bladder_discomfort</td>\n",
       "      <td>foul_smell_of urine</td>\n",
       "      <td>continuous_feel_of_urine</td>\n",
       "      <td>NaN</td>\n",
       "      <td>NaN</td>\n",
       "      <td>NaN</td>\n",
       "      <td>NaN</td>\n",
       "      <td>NaN</td>\n",
       "      <td>NaN</td>\n",
       "      <td>NaN</td>\n",
       "      <td>NaN</td>\n",
       "      <td>NaN</td>\n",
       "      <td>NaN</td>\n",
       "      <td>NaN</td>\n",
       "      <td>NaN</td>\n",
       "      <td>NaN</td>\n",
       "    </tr>\n",
       "    <tr>\n",
       "      <th>4918</th>\n",
       "      <td>Psoriasis</td>\n",
       "      <td>skin_rash</td>\n",
       "      <td>joint_pain</td>\n",
       "      <td>skin_peeling</td>\n",
       "      <td>silver_like_dusting</td>\n",
       "      <td>small_dents_in_nails</td>\n",
       "      <td>inflammatory_nails</td>\n",
       "      <td>NaN</td>\n",
       "      <td>NaN</td>\n",
       "      <td>NaN</td>\n",
       "      <td>NaN</td>\n",
       "      <td>NaN</td>\n",
       "      <td>NaN</td>\n",
       "      <td>NaN</td>\n",
       "      <td>NaN</td>\n",
       "      <td>NaN</td>\n",
       "      <td>NaN</td>\n",
       "      <td>NaN</td>\n",
       "    </tr>\n",
       "    <tr>\n",
       "      <th>4919</th>\n",
       "      <td>Impetigo</td>\n",
       "      <td>skin_rash</td>\n",
       "      <td>high_fever</td>\n",
       "      <td>blister</td>\n",
       "      <td>red_sore_around_nose</td>\n",
       "      <td>yellow_crust_ooze</td>\n",
       "      <td>NaN</td>\n",
       "      <td>NaN</td>\n",
       "      <td>NaN</td>\n",
       "      <td>NaN</td>\n",
       "      <td>NaN</td>\n",
       "      <td>NaN</td>\n",
       "      <td>NaN</td>\n",
       "      <td>NaN</td>\n",
       "      <td>NaN</td>\n",
       "      <td>NaN</td>\n",
       "      <td>NaN</td>\n",
       "      <td>NaN</td>\n",
       "    </tr>\n",
       "  </tbody>\n",
       "</table>\n",
       "<p>4920 rows × 18 columns</p>\n",
       "</div>"
      ],
      "text/plain": [
       "                                      Disease             Symptom_1  \\\n",
       "0                            Fungal infection               itching   \n",
       "1                            Fungal infection             skin_rash   \n",
       "2                            Fungal infection               itching   \n",
       "3                            Fungal infection               itching   \n",
       "4                            Fungal infection               itching   \n",
       "...                                       ...                   ...   \n",
       "4915  (vertigo) Paroymsal  Positional Vertigo              vomiting   \n",
       "4916                                     Acne             skin_rash   \n",
       "4917                  Urinary tract infection   burning_micturition   \n",
       "4918                                Psoriasis             skin_rash   \n",
       "4919                                 Impetigo             skin_rash   \n",
       "\n",
       "                  Symptom_2              Symptom_3                  Symptom_4  \\\n",
       "0                 skin_rash   nodal_skin_eruptions        dischromic _patches   \n",
       "1      nodal_skin_eruptions    dischromic _patches                        NaN   \n",
       "2      nodal_skin_eruptions    dischromic _patches                        NaN   \n",
       "3                 skin_rash    dischromic _patches                        NaN   \n",
       "4                 skin_rash   nodal_skin_eruptions                        NaN   \n",
       "...                     ...                    ...                        ...   \n",
       "4915               headache                 nausea         spinning_movements   \n",
       "4916     pus_filled_pimples             blackheads                   scurring   \n",
       "4917     bladder_discomfort    foul_smell_of urine   continuous_feel_of_urine   \n",
       "4918             joint_pain           skin_peeling        silver_like_dusting   \n",
       "4919             high_fever                blister       red_sore_around_nose   \n",
       "\n",
       "                  Symptom_5            Symptom_6 Symptom_7 Symptom_8  \\\n",
       "0                       NaN                  NaN       NaN       NaN   \n",
       "1                       NaN                  NaN       NaN       NaN   \n",
       "2                       NaN                  NaN       NaN       NaN   \n",
       "3                       NaN                  NaN       NaN       NaN   \n",
       "4                       NaN                  NaN       NaN       NaN   \n",
       "...                     ...                  ...       ...       ...   \n",
       "4915        loss_of_balance         unsteadiness       NaN       NaN   \n",
       "4916                    NaN                  NaN       NaN       NaN   \n",
       "4917                    NaN                  NaN       NaN       NaN   \n",
       "4918   small_dents_in_nails   inflammatory_nails       NaN       NaN   \n",
       "4919      yellow_crust_ooze                  NaN       NaN       NaN   \n",
       "\n",
       "     Symptom_9 Symptom_10 Symptom_11 Symptom_12 Symptom_13 Symptom_14  \\\n",
       "0          NaN        NaN        NaN        NaN        NaN        NaN   \n",
       "1          NaN        NaN        NaN        NaN        NaN        NaN   \n",
       "2          NaN        NaN        NaN        NaN        NaN        NaN   \n",
       "3          NaN        NaN        NaN        NaN        NaN        NaN   \n",
       "4          NaN        NaN        NaN        NaN        NaN        NaN   \n",
       "...        ...        ...        ...        ...        ...        ...   \n",
       "4915       NaN        NaN        NaN        NaN        NaN        NaN   \n",
       "4916       NaN        NaN        NaN        NaN        NaN        NaN   \n",
       "4917       NaN        NaN        NaN        NaN        NaN        NaN   \n",
       "4918       NaN        NaN        NaN        NaN        NaN        NaN   \n",
       "4919       NaN        NaN        NaN        NaN        NaN        NaN   \n",
       "\n",
       "     Symptom_15 Symptom_16 Symptom_17  \n",
       "0           NaN        NaN        NaN  \n",
       "1           NaN        NaN        NaN  \n",
       "2           NaN        NaN        NaN  \n",
       "3           NaN        NaN        NaN  \n",
       "4           NaN        NaN        NaN  \n",
       "...         ...        ...        ...  \n",
       "4915        NaN        NaN        NaN  \n",
       "4916        NaN        NaN        NaN  \n",
       "4917        NaN        NaN        NaN  \n",
       "4918        NaN        NaN        NaN  \n",
       "4919        NaN        NaN        NaN  \n",
       "\n",
       "[4920 rows x 18 columns]"
      ]
     },
     "execution_count": 103,
     "metadata": {},
     "output_type": "execute_result"
    }
   ],
   "source": [
    "dataset_path = './models/dataset.csv'\n",
    "severity_path = './models/Symptom-severity.csv'\n",
    "\n",
    "df = pd.read_csv(dataset_path)\n",
    "severity_df = pd.read_csv(severity_path)\n",
    "df"
   ]
  },
  {
   "cell_type": "code",
   "execution_count": 104,
   "metadata": {},
   "outputs": [
    {
     "name": "stdout",
     "output_type": "stream",
     "text": [
      "There are 41 unique diseases in the dataset.\n"
     ]
    }
   ],
   "source": [
    "unique_diseases = df['Disease'].nunique()\n",
    "\n",
    "print(f\"There are {unique_diseases} unique diseases in the dataset.\")"
   ]
  },
  {
   "cell_type": "markdown",
   "metadata": {},
   "source": [
    "# Prétraitement des données"
   ]
  },
  {
   "cell_type": "markdown",
   "metadata": {},
   "source": [
    "## Nettoyer les données"
   ]
  },
  {
   "cell_type": "code",
   "execution_count": 105,
   "metadata": {},
   "outputs": [
    {
     "name": "stdout",
     "output_type": "stream",
     "text": [
      "Unique Symptoms: ['abdominal_pain', 'abnormal_menstruation', 'acidity', 'acute_liver_failure', 'altered_sensorium', 'anxiety', 'back_pain', 'belly_pain', 'blackheads', 'bladder_discomfort', 'blister', 'blood_in_sputum', 'bloody_stool', 'blurred_and_distorted_vision', 'breathlessness', 'brittle_nails', 'bruising', 'burning_micturition', 'chest_pain', 'chills', 'cold_hands_and_feets', 'coma', 'congestion', 'constipation', 'continuous_feel_of_urine', 'continuous_sneezing', 'cough', 'cramps', 'dark_urine', 'dehydration', 'depression', 'diarrhoea', 'dischromic_patches', 'distention_of_abdomen', 'dizziness', 'drying_and_tingling_lips', 'enlarged_thyroid', 'excessive_hunger', 'extra_marital_contacts', 'family_history', 'fast_heart_rate', 'fatigue', 'fluid_overload', 'foul_smell_of_urine', 'headache', 'high_fever', 'hip_joint_pain', 'history_of_alcohol_consumption', 'increased_appetite', 'indigestion', 'inflammatory_nails', 'internal_itching', 'irregular_sugar_level', 'irritability', 'irritation_in_anus', 'itching', 'joint_pain', 'knee_pain', 'lack_of_concentration', 'lethargy', 'loss_of_appetite', 'loss_of_balance', 'loss_of_smell', 'malaise', 'mild_fever', 'mood_swings', 'movement_stiffness', 'mucoid_sputum', 'muscle_pain', 'muscle_wasting', 'muscle_weakness', 'nausea', 'neck_pain', 'nodal_skin_eruptions', 'obesity', 'pain_behind_the_eyes', 'pain_during_bowel_movements', 'pain_in_anal_region', 'painful_walking', 'palpitations', 'passage_of_gases', 'patches_in_throat', 'phlegm', 'polyuria', 'prominent_veins_on_calf', 'puffy_face_and_eyes', 'pus_filled_pimples', 'receiving_blood_transfusion', 'receiving_unsterile_injections', 'red_sore_around_nose', 'red_spots_over_body', 'redness_of_eyes', 'restlessness', 'runny_nose', 'rusty_sputum', 'scurring', 'shivering', 'silver_like_dusting', 'sinus_pressure', 'skin_peeling', 'skin_rash', 'slurred_speech', 'small_dents_in_nails', 'spinning_movements', 'spotting_urination', 'stiff_neck', 'stomach_bleeding', 'stomach_pain', 'sunken_eyes', 'sweating', 'swelled_lymph_nodes', 'swelling_joints', 'swelling_of_stomach', 'swollen_blood_vessels', 'swollen_extremeties', 'swollen_legs', 'throat_irritation', 'toxic_look_(typhos)', 'ulcers_on_tongue', 'unsteadiness', 'visual_disturbances', 'vomiting', 'watering_from_eyes', 'weakness_in_limbs', 'weakness_of_one_body_side', 'weight_gain', 'weight_loss', 'yellow_crust_ooze', 'yellow_urine', 'yellowing_of_eyes', 'yellowish_skin']\n",
      "131\n"
     ]
    }
   ],
   "source": [
    "import re\n",
    "\n",
    "def clean_symptom(symptom):\n",
    "    # Remove leading/trailing whitespace, convert to lowercase, replace spaces with underscores\n",
    "    symptom = symptom.strip().lower().replace(\" \", \"_\")\n",
    "    # Replace multiple underscores with a single underscore\n",
    "    symptom = re.sub(r\"_+\", \"_\", symptom)\n",
    "    return symptom\n",
    "\n",
    "for col in df.columns[1:]:  # Skip the first column if it's 'Disease' or similar\n",
    "    df[col] = df[col].fillna('').apply(lambda x: clean_symptom(str(x)) if x else '')\n",
    "\n",
    "\n",
    "# Extract all unique symptoms from the dataset\n",
    "# Assuming symptom-related columns start from the second column\n",
    "unique_symptoms = set()\n",
    "\n",
    "for col in df.columns[1:]:  # Skip the first column if it's 'Disease' or similar\n",
    "    unique_symptoms.update(df[col].unique())\n",
    "\n",
    "# Remove any empty strings if present\n",
    "unique_symptoms = {symptom for symptom in unique_symptoms if symptom}\n",
    "\n",
    "# Convert to a sorted list for better readability\n",
    "unique_symptoms_list = sorted(unique_symptoms)\n",
    "\n",
    "print(f\"Unique Symptoms: {unique_symptoms_list}\")\n",
    "\n",
    "symptoms = unique_symptoms\n",
    "print(len(symptoms))\n",
    "\n"
   ]
  },
  {
   "cell_type": "markdown",
   "metadata": {},
   "source": [
    "Toutes les symptomes correspondent bien entre les deux databases"
   ]
  },
  {
   "cell_type": "markdown",
   "metadata": {},
   "source": [
    "## Création d'une matrice one hot encoding"
   ]
  },
  {
   "cell_type": "code",
   "execution_count": 106,
   "metadata": {},
   "outputs": [
    {
     "data": {
      "text/html": [
       "<div>\n",
       "<style scoped>\n",
       "    .dataframe tbody tr th:only-of-type {\n",
       "        vertical-align: middle;\n",
       "    }\n",
       "\n",
       "    .dataframe tbody tr th {\n",
       "        vertical-align: top;\n",
       "    }\n",
       "\n",
       "    .dataframe thead th {\n",
       "        text-align: right;\n",
       "    }\n",
       "</style>\n",
       "<table border=\"1\" class=\"dataframe\">\n",
       "  <thead>\n",
       "    <tr style=\"text-align: right;\">\n",
       "      <th></th>\n",
       "      <th>Disease</th>\n",
       "      <th>mucoid_sputum</th>\n",
       "      <th>pain_during_bowel_movements</th>\n",
       "      <th>anxiety</th>\n",
       "      <th>pain_behind_the_eyes</th>\n",
       "      <th>brittle_nails</th>\n",
       "      <th>bladder_discomfort</th>\n",
       "      <th>unsteadiness</th>\n",
       "      <th>increased_appetite</th>\n",
       "      <th>polyuria</th>\n",
       "      <th>...</th>\n",
       "      <th>foul_smell_of_urine</th>\n",
       "      <th>runny_nose</th>\n",
       "      <th>knee_pain</th>\n",
       "      <th>headache</th>\n",
       "      <th>weight_loss</th>\n",
       "      <th>loss_of_smell</th>\n",
       "      <th>spotting_urination</th>\n",
       "      <th>blackheads</th>\n",
       "      <th>skin_peeling</th>\n",
       "      <th>spinning_movements</th>\n",
       "    </tr>\n",
       "  </thead>\n",
       "  <tbody>\n",
       "    <tr>\n",
       "      <th>0</th>\n",
       "      <td>Fungal infection</td>\n",
       "      <td>0</td>\n",
       "      <td>0</td>\n",
       "      <td>0</td>\n",
       "      <td>0</td>\n",
       "      <td>0</td>\n",
       "      <td>0</td>\n",
       "      <td>0</td>\n",
       "      <td>0</td>\n",
       "      <td>0</td>\n",
       "      <td>...</td>\n",
       "      <td>0</td>\n",
       "      <td>0</td>\n",
       "      <td>0</td>\n",
       "      <td>0</td>\n",
       "      <td>0</td>\n",
       "      <td>0</td>\n",
       "      <td>0</td>\n",
       "      <td>0</td>\n",
       "      <td>0</td>\n",
       "      <td>0</td>\n",
       "    </tr>\n",
       "    <tr>\n",
       "      <th>1</th>\n",
       "      <td>Fungal infection</td>\n",
       "      <td>0</td>\n",
       "      <td>0</td>\n",
       "      <td>0</td>\n",
       "      <td>0</td>\n",
       "      <td>0</td>\n",
       "      <td>0</td>\n",
       "      <td>0</td>\n",
       "      <td>0</td>\n",
       "      <td>0</td>\n",
       "      <td>...</td>\n",
       "      <td>0</td>\n",
       "      <td>0</td>\n",
       "      <td>0</td>\n",
       "      <td>0</td>\n",
       "      <td>0</td>\n",
       "      <td>0</td>\n",
       "      <td>0</td>\n",
       "      <td>0</td>\n",
       "      <td>0</td>\n",
       "      <td>0</td>\n",
       "    </tr>\n",
       "    <tr>\n",
       "      <th>2</th>\n",
       "      <td>Fungal infection</td>\n",
       "      <td>0</td>\n",
       "      <td>0</td>\n",
       "      <td>0</td>\n",
       "      <td>0</td>\n",
       "      <td>0</td>\n",
       "      <td>0</td>\n",
       "      <td>0</td>\n",
       "      <td>0</td>\n",
       "      <td>0</td>\n",
       "      <td>...</td>\n",
       "      <td>0</td>\n",
       "      <td>0</td>\n",
       "      <td>0</td>\n",
       "      <td>0</td>\n",
       "      <td>0</td>\n",
       "      <td>0</td>\n",
       "      <td>0</td>\n",
       "      <td>0</td>\n",
       "      <td>0</td>\n",
       "      <td>0</td>\n",
       "    </tr>\n",
       "    <tr>\n",
       "      <th>3</th>\n",
       "      <td>Fungal infection</td>\n",
       "      <td>0</td>\n",
       "      <td>0</td>\n",
       "      <td>0</td>\n",
       "      <td>0</td>\n",
       "      <td>0</td>\n",
       "      <td>0</td>\n",
       "      <td>0</td>\n",
       "      <td>0</td>\n",
       "      <td>0</td>\n",
       "      <td>...</td>\n",
       "      <td>0</td>\n",
       "      <td>0</td>\n",
       "      <td>0</td>\n",
       "      <td>0</td>\n",
       "      <td>0</td>\n",
       "      <td>0</td>\n",
       "      <td>0</td>\n",
       "      <td>0</td>\n",
       "      <td>0</td>\n",
       "      <td>0</td>\n",
       "    </tr>\n",
       "    <tr>\n",
       "      <th>4</th>\n",
       "      <td>Fungal infection</td>\n",
       "      <td>0</td>\n",
       "      <td>0</td>\n",
       "      <td>0</td>\n",
       "      <td>0</td>\n",
       "      <td>0</td>\n",
       "      <td>0</td>\n",
       "      <td>0</td>\n",
       "      <td>0</td>\n",
       "      <td>0</td>\n",
       "      <td>...</td>\n",
       "      <td>0</td>\n",
       "      <td>0</td>\n",
       "      <td>0</td>\n",
       "      <td>0</td>\n",
       "      <td>0</td>\n",
       "      <td>0</td>\n",
       "      <td>0</td>\n",
       "      <td>0</td>\n",
       "      <td>0</td>\n",
       "      <td>0</td>\n",
       "    </tr>\n",
       "  </tbody>\n",
       "</table>\n",
       "<p>5 rows × 132 columns</p>\n",
       "</div>"
      ],
      "text/plain": [
       "            Disease  mucoid_sputum  pain_during_bowel_movements  anxiety  \\\n",
       "0  Fungal infection              0                            0        0   \n",
       "1  Fungal infection              0                            0        0   \n",
       "2  Fungal infection              0                            0        0   \n",
       "3  Fungal infection              0                            0        0   \n",
       "4  Fungal infection              0                            0        0   \n",
       "\n",
       "   pain_behind_the_eyes  brittle_nails  bladder_discomfort  unsteadiness  \\\n",
       "0                     0              0                   0             0   \n",
       "1                     0              0                   0             0   \n",
       "2                     0              0                   0             0   \n",
       "3                     0              0                   0             0   \n",
       "4                     0              0                   0             0   \n",
       "\n",
       "   increased_appetite  polyuria  ...  foul_smell_of_urine  runny_nose  \\\n",
       "0                   0         0  ...                    0           0   \n",
       "1                   0         0  ...                    0           0   \n",
       "2                   0         0  ...                    0           0   \n",
       "3                   0         0  ...                    0           0   \n",
       "4                   0         0  ...                    0           0   \n",
       "\n",
       "   knee_pain  headache  weight_loss  loss_of_smell  spotting_urination  \\\n",
       "0          0         0            0              0                   0   \n",
       "1          0         0            0              0                   0   \n",
       "2          0         0            0              0                   0   \n",
       "3          0         0            0              0                   0   \n",
       "4          0         0            0              0                   0   \n",
       "\n",
       "   blackheads  skin_peeling  spinning_movements  \n",
       "0           0             0                   0  \n",
       "1           0             0                   0  \n",
       "2           0             0                   0  \n",
       "3           0             0                   0  \n",
       "4           0             0                   0  \n",
       "\n",
       "[5 rows x 132 columns]"
      ]
     },
     "execution_count": 106,
     "metadata": {},
     "output_type": "execute_result"
    }
   ],
   "source": [
    "# Create a binary matrix with columns for each unique symptom and a 'Disease' column\n",
    "binary_matrix = pd.DataFrame(0, index=df.index, columns=['Disease'] + list(symptoms))\n",
    "\n",
    "# Copy diseases into the new matrix\n",
    "binary_matrix['Disease'] = df['Disease']\n",
    "\n",
    "# Fill the matrix with 1s where symptoms are present\n",
    "for index, row in df.iterrows():\n",
    "    symptoms_present = row[1:].dropna().values  # Get non-NaN symptoms\n",
    "    symptoms_present = [symptom for symptom in symptoms_present if symptom in binary_matrix.columns]\n",
    "    binary_matrix.loc[index, symptoms_present] = 1\n",
    "\n",
    "df = binary_matrix\n",
    "df.head()"
   ]
  },
  {
   "cell_type": "markdown",
   "metadata": {},
   "source": [
    "### Vérification"
   ]
  },
  {
   "cell_type": "markdown",
   "metadata": {},
   "source": [
    "Afficher les symptômes présents pour une maladie"
   ]
  },
  {
   "cell_type": "code",
   "execution_count": 107,
   "metadata": {},
   "outputs": [
    {
     "name": "stdout",
     "output_type": "stream",
     "text": [
      "Symptômes présents pour la première ligne : ['itching', 'nodal_skin_eruptions', 'skin_rash', 'dischromic_patches']\n"
     ]
    }
   ],
   "source": [
    "present_symptoms = df.iloc[0][df.iloc[0] == 1].index.tolist()\n",
    "print(f\"Symptômes présents pour la première ligne : {present_symptoms}\")\n"
   ]
  },
  {
   "cell_type": "markdown",
   "metadata": {},
   "source": [
    "## Analyse du dataset"
   ]
  },
  {
   "cell_type": "markdown",
   "metadata": {},
   "source": [
    "### Suppressions des doublons"
   ]
  },
  {
   "cell_type": "code",
   "execution_count": 108,
   "metadata": {},
   "outputs": [
    {
     "data": {
      "text/plain": [
       "0     False\n",
       "1     False\n",
       "2     False\n",
       "3     False\n",
       "4     False\n",
       "5      True\n",
       "6      True\n",
       "7      True\n",
       "8      True\n",
       "9      True\n",
       "10    False\n",
       "11    False\n",
       "12    False\n",
       "13    False\n",
       "14    False\n",
       "15     True\n",
       "16     True\n",
       "17     True\n",
       "18     True\n",
       "19     True\n",
       "dtype: bool"
      ]
     },
     "execution_count": 108,
     "metadata": {},
     "output_type": "execute_result"
    }
   ],
   "source": [
    "df.duplicated().head(20)"
   ]
  },
  {
   "cell_type": "code",
   "execution_count": 109,
   "metadata": {},
   "outputs": [
    {
     "name": "stdout",
     "output_type": "stream",
     "text": [
      "Nombre de lignes dupliquées : 4616\n",
      "Nombre de lignes après suppression des doublons : 304\n"
     ]
    }
   ],
   "source": [
    "duplicates = df.duplicated().sum()\n",
    "print(f\"Nombre de lignes dupliquées : {duplicates}\")\n",
    "    \n",
    "df = df.drop_duplicates()\n",
    "print(f\"Nombre de lignes après suppression des doublons : {len(df)}\")"
   ]
  },
  {
   "cell_type": "markdown",
   "metadata": {},
   "source": [
    "# Réseau de neurones"
   ]
  },
  {
   "cell_type": "markdown",
   "metadata": {},
   "source": [
    "## Préparer les données"
   ]
  },
  {
   "cell_type": "code",
   "execution_count": 110,
   "metadata": {},
   "outputs": [
    {
     "data": {
      "text/plain": [
       "array([[0, 0, 0, ..., 0, 0, 0],\n",
       "       [0, 0, 0, ..., 0, 0, 0],\n",
       "       [0, 0, 0, ..., 0, 0, 0],\n",
       "       ...,\n",
       "       [0, 0, 0, ..., 0, 0, 0],\n",
       "       [0, 0, 0, ..., 0, 0, 0],\n",
       "       [0, 0, 0, ..., 0, 0, 0]])"
      ]
     },
     "execution_count": 110,
     "metadata": {},
     "output_type": "execute_result"
    }
   ],
   "source": [
    "X = df.iloc[:, 1:].values  # Symptômes (exclut la colonne Disease)\n",
    "y = df['Disease'].values  # Maladies\n",
    "X"
   ]
  },
  {
   "cell_type": "markdown",
   "metadata": {},
   "source": [
    "### Encoder les maladies en labels numériques"
   ]
  },
  {
   "cell_type": "code",
   "execution_count": 111,
   "metadata": {},
   "outputs": [],
   "source": [
    "label_encoder = LabelEncoder()\n",
    "y_encoded = label_encoder.fit_transform(y)"
   ]
  },
  {
   "cell_type": "markdown",
   "metadata": {},
   "source": [
    "## Diviser les données en ensembles d'entraînement et de test"
   ]
  },
  {
   "cell_type": "code",
   "execution_count": 112,
   "metadata": {},
   "outputs": [],
   "source": [
    "X_train, X_test, y_train, y_test = train_test_split(X, y_encoded, test_size=0.2, random_state=42)\n"
   ]
  },
  {
   "cell_type": "markdown",
   "metadata": {},
   "source": [
    "## Construire le modèle de réseau de neurones"
   ]
  },
  {
   "cell_type": "code",
   "execution_count": 113,
   "metadata": {},
   "outputs": [
    {
     "name": "stderr",
     "output_type": "stream",
     "text": [
      "/Library/Frameworks/Python.framework/Versions/3.11/lib/python3.11/site-packages/keras/src/layers/core/dense.py:87: UserWarning: Do not pass an `input_shape`/`input_dim` argument to a layer. When using Sequential models, prefer using an `Input(shape)` object as the first layer in the model instead.\n",
      "  super().__init__(activity_regularizer=activity_regularizer, **kwargs)\n"
     ]
    }
   ],
   "source": [
    "model = Sequential([\n",
    "    Dense(128, input_dim=X.shape[1], activation='relu'),  # Couche cachée avec 128 neurones\n",
    "    Dropout(0.2),  # Dropout pour éviter le sur-apprentissage\n",
    "    Dense(64, activation='relu'),  # Deuxième couche cachée\n",
    "    Dense(len(np.unique(y_encoded)), activation='softmax')  # Couche de sortie avec une classe par maladie\n",
    "])"
   ]
  },
  {
   "cell_type": "markdown",
   "metadata": {},
   "source": [
    "## Compiler le modèle"
   ]
  },
  {
   "cell_type": "code",
   "execution_count": 114,
   "metadata": {},
   "outputs": [],
   "source": [
    "model.compile(optimizer='adam', loss='sparse_categorical_crossentropy', metrics=['accuracy'])\n"
   ]
  },
  {
   "cell_type": "markdown",
   "metadata": {},
   "source": [
    "## Entraîner le modèle"
   ]
  },
  {
   "cell_type": "code",
   "execution_count": 115,
   "metadata": {},
   "outputs": [
    {
     "name": "stdout",
     "output_type": "stream",
     "text": [
      "Epoch 1/50\n",
      "\u001b[1m8/8\u001b[0m \u001b[32m━━━━━━━━━━━━━━━━━━━━\u001b[0m\u001b[37m\u001b[0m \u001b[1m0s\u001b[0m 11ms/step - accuracy: 0.0275 - loss: 3.7256 - val_accuracy: 0.0328 - val_loss: 3.6337\n",
      "Epoch 2/50\n",
      "\u001b[1m8/8\u001b[0m \u001b[32m━━━━━━━━━━━━━━━━━━━━\u001b[0m\u001b[37m\u001b[0m \u001b[1m0s\u001b[0m 3ms/step - accuracy: 0.1056 - loss: 3.5652 - val_accuracy: 0.1639 - val_loss: 3.4955\n",
      "Epoch 3/50\n",
      "\u001b[1m8/8\u001b[0m \u001b[32m━━━━━━━━━━━━━━━━━━━━\u001b[0m\u001b[37m\u001b[0m \u001b[1m0s\u001b[0m 3ms/step - accuracy: 0.3382 - loss: 3.4235 - val_accuracy: 0.3770 - val_loss: 3.3401\n",
      "Epoch 4/50\n",
      "\u001b[1m8/8\u001b[0m \u001b[32m━━━━━━━━━━━━━━━━━━━━\u001b[0m\u001b[37m\u001b[0m \u001b[1m0s\u001b[0m 3ms/step - accuracy: 0.4614 - loss: 3.2569 - val_accuracy: 0.4918 - val_loss: 3.1523\n",
      "Epoch 5/50\n",
      "\u001b[1m8/8\u001b[0m \u001b[32m━━━━━━━━━━━━━━━━━━━━\u001b[0m\u001b[37m\u001b[0m \u001b[1m0s\u001b[0m 3ms/step - accuracy: 0.6348 - loss: 3.0266 - val_accuracy: 0.6066 - val_loss: 2.9238\n",
      "Epoch 6/50\n",
      "\u001b[1m8/8\u001b[0m \u001b[32m━━━━━━━━━━━━━━━━━━━━\u001b[0m\u001b[37m\u001b[0m \u001b[1m0s\u001b[0m 3ms/step - accuracy: 0.6318 - loss: 2.7260 - val_accuracy: 0.6066 - val_loss: 2.6558\n",
      "Epoch 7/50\n",
      "\u001b[1m8/8\u001b[0m \u001b[32m━━━━━━━━━━━━━━━━━━━━\u001b[0m\u001b[37m\u001b[0m \u001b[1m0s\u001b[0m 3ms/step - accuracy: 0.7582 - loss: 2.3961 - val_accuracy: 0.6885 - val_loss: 2.3557\n",
      "Epoch 8/50\n",
      "\u001b[1m8/8\u001b[0m \u001b[32m━━━━━━━━━━━━━━━━━━━━\u001b[0m\u001b[37m\u001b[0m \u001b[1m0s\u001b[0m 3ms/step - accuracy: 0.7212 - loss: 2.1574 - val_accuracy: 0.7377 - val_loss: 2.0577\n",
      "Epoch 9/50\n",
      "\u001b[1m8/8\u001b[0m \u001b[32m━━━━━━━━━━━━━━━━━━━━\u001b[0m\u001b[37m\u001b[0m \u001b[1m0s\u001b[0m 3ms/step - accuracy: 0.8285 - loss: 1.8381 - val_accuracy: 0.7869 - val_loss: 1.7851\n",
      "Epoch 10/50\n",
      "\u001b[1m8/8\u001b[0m \u001b[32m━━━━━━━━━━━━━━━━━━━━\u001b[0m\u001b[37m\u001b[0m \u001b[1m0s\u001b[0m 3ms/step - accuracy: 0.8516 - loss: 1.5523 - val_accuracy: 0.8361 - val_loss: 1.5246\n",
      "Epoch 11/50\n",
      "\u001b[1m8/8\u001b[0m \u001b[32m━━━━━━━━━━━━━━━━━━━━\u001b[0m\u001b[37m\u001b[0m \u001b[1m0s\u001b[0m 2ms/step - accuracy: 0.8714 - loss: 1.3429 - val_accuracy: 0.8361 - val_loss: 1.3102\n",
      "Epoch 12/50\n",
      "\u001b[1m8/8\u001b[0m \u001b[32m━━━━━━━━━━━━━━━━━━━━\u001b[0m\u001b[37m\u001b[0m \u001b[1m0s\u001b[0m 2ms/step - accuracy: 0.9118 - loss: 1.1399 - val_accuracy: 0.8525 - val_loss: 1.1304\n",
      "Epoch 13/50\n",
      "\u001b[1m8/8\u001b[0m \u001b[32m━━━━━━━━━━━━━━━━━━━━\u001b[0m\u001b[37m\u001b[0m \u001b[1m0s\u001b[0m 3ms/step - accuracy: 0.9425 - loss: 0.9367 - val_accuracy: 0.8852 - val_loss: 0.9722\n",
      "Epoch 14/50\n",
      "\u001b[1m8/8\u001b[0m \u001b[32m━━━━━━━━━━━━━━━━━━━━\u001b[0m\u001b[37m\u001b[0m \u001b[1m0s\u001b[0m 3ms/step - accuracy: 0.9705 - loss: 0.7463 - val_accuracy: 0.8852 - val_loss: 0.8366\n",
      "Epoch 15/50\n",
      "\u001b[1m8/8\u001b[0m \u001b[32m━━━━━━━━━━━━━━━━━━━━\u001b[0m\u001b[37m\u001b[0m \u001b[1m0s\u001b[0m 3ms/step - accuracy: 0.9644 - loss: 0.6286 - val_accuracy: 0.9180 - val_loss: 0.7182\n",
      "Epoch 16/50\n",
      "\u001b[1m8/8\u001b[0m \u001b[32m━━━━━━━━━━━━━━━━━━━━\u001b[0m\u001b[37m\u001b[0m \u001b[1m0s\u001b[0m 3ms/step - accuracy: 0.9814 - loss: 0.4795 - val_accuracy: 0.9344 - val_loss: 0.6159\n",
      "Epoch 17/50\n",
      "\u001b[1m8/8\u001b[0m \u001b[32m━━━━━━━━━━━━━━━━━━━━\u001b[0m\u001b[37m\u001b[0m \u001b[1m0s\u001b[0m 3ms/step - accuracy: 0.9955 - loss: 0.3781 - val_accuracy: 0.9508 - val_loss: 0.5340\n",
      "Epoch 18/50\n",
      "\u001b[1m8/8\u001b[0m \u001b[32m━━━━━━━━━━━━━━━━━━━━\u001b[0m\u001b[37m\u001b[0m \u001b[1m0s\u001b[0m 9ms/step - accuracy: 1.0000 - loss: 0.3251 - val_accuracy: 0.9836 - val_loss: 0.4599\n",
      "Epoch 19/50\n",
      "\u001b[1m8/8\u001b[0m \u001b[32m━━━━━━━━━━━━━━━━━━━━\u001b[0m\u001b[37m\u001b[0m \u001b[1m0s\u001b[0m 3ms/step - accuracy: 0.9973 - loss: 0.2746 - val_accuracy: 1.0000 - val_loss: 0.4016\n",
      "Epoch 20/50\n",
      "\u001b[1m8/8\u001b[0m \u001b[32m━━━━━━━━━━━━━━━━━━━━\u001b[0m\u001b[37m\u001b[0m \u001b[1m0s\u001b[0m 3ms/step - accuracy: 0.9901 - loss: 0.2308 - val_accuracy: 1.0000 - val_loss: 0.3479\n",
      "Epoch 21/50\n",
      "\u001b[1m8/8\u001b[0m \u001b[32m━━━━━━━━━━━━━━━━━━━━\u001b[0m\u001b[37m\u001b[0m \u001b[1m0s\u001b[0m 3ms/step - accuracy: 0.9938 - loss: 0.1886 - val_accuracy: 1.0000 - val_loss: 0.3004\n",
      "Epoch 22/50\n",
      "\u001b[1m8/8\u001b[0m \u001b[32m━━━━━━━━━━━━━━━━━━━━\u001b[0m\u001b[37m\u001b[0m \u001b[1m0s\u001b[0m 3ms/step - accuracy: 1.0000 - loss: 0.1783 - val_accuracy: 1.0000 - val_loss: 0.2595\n",
      "Epoch 23/50\n",
      "\u001b[1m8/8\u001b[0m \u001b[32m━━━━━━━━━━━━━━━━━━━━\u001b[0m\u001b[37m\u001b[0m \u001b[1m0s\u001b[0m 3ms/step - accuracy: 1.0000 - loss: 0.1505 - val_accuracy: 1.0000 - val_loss: 0.2231\n",
      "Epoch 24/50\n",
      "\u001b[1m8/8\u001b[0m \u001b[32m━━━━━━━━━━━━━━━━━━━━\u001b[0m\u001b[37m\u001b[0m \u001b[1m0s\u001b[0m 3ms/step - accuracy: 1.0000 - loss: 0.1064 - val_accuracy: 1.0000 - val_loss: 0.1942\n",
      "Epoch 25/50\n",
      "\u001b[1m8/8\u001b[0m \u001b[32m━━━━━━━━━━━━━━━━━━━━\u001b[0m\u001b[37m\u001b[0m \u001b[1m0s\u001b[0m 2ms/step - accuracy: 1.0000 - loss: 0.0841 - val_accuracy: 1.0000 - val_loss: 0.1737\n",
      "Epoch 26/50\n",
      "\u001b[1m8/8\u001b[0m \u001b[32m━━━━━━━━━━━━━━━━━━━━\u001b[0m\u001b[37m\u001b[0m \u001b[1m0s\u001b[0m 3ms/step - accuracy: 1.0000 - loss: 0.1020 - val_accuracy: 1.0000 - val_loss: 0.1485\n",
      "Epoch 27/50\n",
      "\u001b[1m8/8\u001b[0m \u001b[32m━━━━━━━━━━━━━━━━━━━━\u001b[0m\u001b[37m\u001b[0m \u001b[1m0s\u001b[0m 2ms/step - accuracy: 1.0000 - loss: 0.0852 - val_accuracy: 1.0000 - val_loss: 0.1321\n",
      "Epoch 28/50\n",
      "\u001b[1m8/8\u001b[0m \u001b[32m━━━━━━━━━━━━━━━━━━━━\u001b[0m\u001b[37m\u001b[0m \u001b[1m0s\u001b[0m 3ms/step - accuracy: 1.0000 - loss: 0.0755 - val_accuracy: 1.0000 - val_loss: 0.1192\n",
      "Epoch 29/50\n",
      "\u001b[1m8/8\u001b[0m \u001b[32m━━━━━━━━━━━━━━━━━━━━\u001b[0m\u001b[37m\u001b[0m \u001b[1m0s\u001b[0m 3ms/step - accuracy: 1.0000 - loss: 0.0696 - val_accuracy: 1.0000 - val_loss: 0.1050\n",
      "Epoch 30/50\n",
      "\u001b[1m8/8\u001b[0m \u001b[32m━━━━━━━━━━━━━━━━━━━━\u001b[0m\u001b[37m\u001b[0m \u001b[1m0s\u001b[0m 3ms/step - accuracy: 1.0000 - loss: 0.0523 - val_accuracy: 1.0000 - val_loss: 0.0938\n",
      "Epoch 31/50\n",
      "\u001b[1m8/8\u001b[0m \u001b[32m━━━━━━━━━━━━━━━━━━━━\u001b[0m\u001b[37m\u001b[0m \u001b[1m0s\u001b[0m 3ms/step - accuracy: 1.0000 - loss: 0.0530 - val_accuracy: 1.0000 - val_loss: 0.0855\n",
      "Epoch 32/50\n",
      "\u001b[1m8/8\u001b[0m \u001b[32m━━━━━━━━━━━━━━━━━━━━\u001b[0m\u001b[37m\u001b[0m \u001b[1m0s\u001b[0m 3ms/step - accuracy: 1.0000 - loss: 0.0498 - val_accuracy: 1.0000 - val_loss: 0.0801\n",
      "Epoch 33/50\n",
      "\u001b[1m8/8\u001b[0m \u001b[32m━━━━━━━━━━━━━━━━━━━━\u001b[0m\u001b[37m\u001b[0m \u001b[1m0s\u001b[0m 3ms/step - accuracy: 1.0000 - loss: 0.0453 - val_accuracy: 1.0000 - val_loss: 0.0744\n",
      "Epoch 34/50\n",
      "\u001b[1m8/8\u001b[0m \u001b[32m━━━━━━━━━━━━━━━━━━━━\u001b[0m\u001b[37m\u001b[0m \u001b[1m0s\u001b[0m 3ms/step - accuracy: 1.0000 - loss: 0.0496 - val_accuracy: 1.0000 - val_loss: 0.0666\n",
      "Epoch 35/50\n",
      "\u001b[1m8/8\u001b[0m \u001b[32m━━━━━━━━━━━━━━━━━━━━\u001b[0m\u001b[37m\u001b[0m \u001b[1m0s\u001b[0m 3ms/step - accuracy: 1.0000 - loss: 0.0363 - val_accuracy: 1.0000 - val_loss: 0.0626\n",
      "Epoch 36/50\n",
      "\u001b[1m8/8\u001b[0m \u001b[32m━━━━━━━━━━━━━━━━━━━━\u001b[0m\u001b[37m\u001b[0m \u001b[1m0s\u001b[0m 3ms/step - accuracy: 1.0000 - loss: 0.0322 - val_accuracy: 1.0000 - val_loss: 0.0580\n",
      "Epoch 37/50\n",
      "\u001b[1m8/8\u001b[0m \u001b[32m━━━━━━━━━━━━━━━━━━━━\u001b[0m\u001b[37m\u001b[0m \u001b[1m0s\u001b[0m 2ms/step - accuracy: 1.0000 - loss: 0.0271 - val_accuracy: 1.0000 - val_loss: 0.0550\n",
      "Epoch 38/50\n",
      "\u001b[1m8/8\u001b[0m \u001b[32m━━━━━━━━━━━━━━━━━━━━\u001b[0m\u001b[37m\u001b[0m \u001b[1m0s\u001b[0m 3ms/step - accuracy: 1.0000 - loss: 0.0326 - val_accuracy: 1.0000 - val_loss: 0.0513\n",
      "Epoch 39/50\n",
      "\u001b[1m8/8\u001b[0m \u001b[32m━━━━━━━━━━━━━━━━━━━━\u001b[0m\u001b[37m\u001b[0m \u001b[1m0s\u001b[0m 8ms/step - accuracy: 1.0000 - loss: 0.0291 - val_accuracy: 1.0000 - val_loss: 0.0467\n",
      "Epoch 40/50\n",
      "\u001b[1m8/8\u001b[0m \u001b[32m━━━━━━━━━━━━━━━━━━━━\u001b[0m\u001b[37m\u001b[0m \u001b[1m0s\u001b[0m 4ms/step - accuracy: 1.0000 - loss: 0.0346 - val_accuracy: 1.0000 - val_loss: 0.0427\n",
      "Epoch 41/50\n",
      "\u001b[1m8/8\u001b[0m \u001b[32m━━━━━━━━━━━━━━━━━━━━\u001b[0m\u001b[37m\u001b[0m \u001b[1m0s\u001b[0m 3ms/step - accuracy: 1.0000 - loss: 0.0267 - val_accuracy: 1.0000 - val_loss: 0.0398\n",
      "Epoch 42/50\n",
      "\u001b[1m8/8\u001b[0m \u001b[32m━━━━━━━━━━━━━━━━━━━━\u001b[0m\u001b[37m\u001b[0m \u001b[1m0s\u001b[0m 3ms/step - accuracy: 1.0000 - loss: 0.0228 - val_accuracy: 1.0000 - val_loss: 0.0389\n",
      "Epoch 43/50\n",
      "\u001b[1m8/8\u001b[0m \u001b[32m━━━━━━━━━━━━━━━━━━━━\u001b[0m\u001b[37m\u001b[0m \u001b[1m0s\u001b[0m 3ms/step - accuracy: 1.0000 - loss: 0.0243 - val_accuracy: 1.0000 - val_loss: 0.0372\n",
      "Epoch 44/50\n",
      "\u001b[1m8/8\u001b[0m \u001b[32m━━━━━━━━━━━━━━━━━━━━\u001b[0m\u001b[37m\u001b[0m \u001b[1m0s\u001b[0m 3ms/step - accuracy: 1.0000 - loss: 0.0196 - val_accuracy: 1.0000 - val_loss: 0.0364\n",
      "Epoch 45/50\n",
      "\u001b[1m8/8\u001b[0m \u001b[32m━━━━━━━━━━━━━━━━━━━━\u001b[0m\u001b[37m\u001b[0m \u001b[1m0s\u001b[0m 2ms/step - accuracy: 1.0000 - loss: 0.0208 - val_accuracy: 1.0000 - val_loss: 0.0350\n",
      "Epoch 46/50\n",
      "\u001b[1m8/8\u001b[0m \u001b[32m━━━━━━━━━━━━━━━━━━━━\u001b[0m\u001b[37m\u001b[0m \u001b[1m0s\u001b[0m 3ms/step - accuracy: 1.0000 - loss: 0.0193 - val_accuracy: 1.0000 - val_loss: 0.0333\n",
      "Epoch 47/50\n",
      "\u001b[1m8/8\u001b[0m \u001b[32m━━━━━━━━━━━━━━━━━━━━\u001b[0m\u001b[37m\u001b[0m \u001b[1m0s\u001b[0m 3ms/step - accuracy: 1.0000 - loss: 0.0172 - val_accuracy: 1.0000 - val_loss: 0.0305\n",
      "Epoch 48/50\n",
      "\u001b[1m8/8\u001b[0m \u001b[32m━━━━━━━━━━━━━━━━━━━━\u001b[0m\u001b[37m\u001b[0m \u001b[1m0s\u001b[0m 3ms/step - accuracy: 1.0000 - loss: 0.0143 - val_accuracy: 1.0000 - val_loss: 0.0288\n",
      "Epoch 49/50\n",
      "\u001b[1m8/8\u001b[0m \u001b[32m━━━━━━━━━━━━━━━━━━━━\u001b[0m\u001b[37m\u001b[0m \u001b[1m0s\u001b[0m 3ms/step - accuracy: 1.0000 - loss: 0.0159 - val_accuracy: 1.0000 - val_loss: 0.0270\n",
      "Epoch 50/50\n",
      "\u001b[1m8/8\u001b[0m \u001b[32m━━━━━━━━━━━━━━━━━━━━\u001b[0m\u001b[37m\u001b[0m \u001b[1m0s\u001b[0m 3ms/step - accuracy: 1.0000 - loss: 0.0173 - val_accuracy: 1.0000 - val_loss: 0.0268\n"
     ]
    }
   ],
   "source": [
    "predicted_labels = model.fit(X_train, y_train, epochs=50, batch_size=32, validation_data=(X_test, y_test))\n"
   ]
  },
  {
   "cell_type": "markdown",
   "metadata": {},
   "source": [
    "# Analyse de la performance"
   ]
  },
  {
   "cell_type": "markdown",
   "metadata": {},
   "source": [
    "## Accuracy"
   ]
  },
  {
   "cell_type": "code",
   "execution_count": 116,
   "metadata": {},
   "outputs": [
    {
     "name": "stdout",
     "output_type": "stream",
     "text": [
      "\u001b[1m2/2\u001b[0m \u001b[32m━━━━━━━━━━━━━━━━━━━━\u001b[0m\u001b[37m\u001b[0m \u001b[1m0s\u001b[0m 2ms/step - accuracy: 1.0000 - loss: 0.0261  \n",
      "Précision sur les données de test : 100.00%\n"
     ]
    }
   ],
   "source": [
    "test_loss, test_accuracy = model.evaluate(X_test, y_test)\n",
    "print(f\"Précision sur les données de test : {test_accuracy * 100:.2f}%\")"
   ]
  },
  {
   "cell_type": "markdown",
   "metadata": {},
   "source": [
    "## Matrice de confusion\n",
    "\n",
    "permet de visualiser les erreurs de classification par classe"
   ]
  },
  {
   "cell_type": "code",
   "execution_count": 117,
   "metadata": {},
   "outputs": [],
   "source": [
    "# from sklearn.metrics import confusion_matrix\n",
    "# import seaborn as sns\n",
    "# import matplotlib.pyplot as plt\n",
    "\n",
    "# # Créer la matrice de confusion\n",
    "# conf_matrix = confusion_matrix(y_test, predicted_labels)\n",
    "\n",
    "# # Afficher la matrice sous forme de heatmap\n",
    "# plt.figure(figsize=(10, 8))\n",
    "# sns.heatmap(conf_matrix, annot=True, fmt='d', cmap='Blues', xticklabels=label_encoder.classes_, yticklabels=label_encoder.classes_)\n",
    "# plt.xlabel('Prédictions')\n",
    "# plt.ylabel('Vérités')\n",
    "# plt.title('Matrice de confusion')\n",
    "# plt.show()"
   ]
  },
  {
   "cell_type": "markdown",
   "metadata": {},
   "source": [
    "## Visualiser les métriques pendant l'entraînement"
   ]
  },
  {
   "cell_type": "code",
   "execution_count": 118,
   "metadata": {},
   "outputs": [],
   "source": [
    "\n",
    "# plt.plot(history.history['accuracy'], label='Précision entraînement')\n",
    "# plt.plot(history.history['val_accuracy'], label='Précision validation')\n",
    "# plt.xlabel('Époques')\n",
    "# plt.ylabel('Précision')\n",
    "# plt.legend()\n",
    "# plt.title('Courbe de précision')\n",
    "# plt.show()\n",
    "\n",
    "# plt.plot(history.history['loss'], label='Perte entraînement')\n",
    "# plt.plot(history.history['val_loss'], label='Perte validation')\n",
    "# plt.xlabel('Époques')\n",
    "# plt.ylabel('Perte')\n",
    "# plt.legend()\n",
    "# plt.title('Courbe de perte')\n",
    "# plt.show()"
   ]
  },
  {
   "cell_type": "markdown",
   "metadata": {},
   "source": [
    "## Validation croisée"
   ]
  },
  {
   "cell_type": "code",
   "execution_count": 119,
   "metadata": {},
   "outputs": [
    {
     "name": "stdout",
     "output_type": "stream",
     "text": [
      "Précision moyenne sur les 5 folds : 1.00\n"
     ]
    }
   ],
   "source": [
    "from sklearn.model_selection import cross_val_score\n",
    "from sklearn.model_selection import StratifiedKFold\n",
    "\n",
    "# Configuration de la validation croisée\n",
    "kfold = StratifiedKFold(n_splits=5, shuffle=True, random_state=None)\n",
    "\n",
    "# Évaluation avec la validation croisée\n",
    "from sklearn.metrics import make_scorer, accuracy_score\n",
    "\n",
    "accuracy_scores = []\n",
    "for train_index, test_index in kfold.split(X, y_encoded):\n",
    "    X_train, X_test = X[train_index], X[test_index]\n",
    "    y_train, y_test = y_encoded[train_index], y_encoded[test_index]\n",
    "    \n",
    "    # Entraîner un modèle pour ce fold\n",
    "    model.fit(X_train, y_train, epochs=10, batch_size=32, verbose=0)  # Ajustez les paramètres ici\n",
    "    scores = model.evaluate(X_test, y_test, verbose=0)\n",
    "    accuracy_scores.append(scores[1])  # Ajouter l'accuracy\n",
    "    \n",
    "print(f\"Précision moyenne sur les 5 folds : {np.mean(accuracy_scores):.2f}\")\n"
   ]
  },
  {
   "cell_type": "markdown",
   "metadata": {},
   "source": [
    "## Vérifier la certitude des prédictions "
   ]
  },
  {
   "cell_type": "code",
   "execution_count": 133,
   "metadata": {},
   "outputs": [],
   "source": [
    "def predict_disease_with_certainty(symptoms_list, df, model, label_encoder):\n",
    "    \"\"\"\n",
    "    Prédire la maladie à partir d'une liste de symptômes et retourner la certitude associée.\n",
    "\n",
    "    :param symptoms_list: Liste de symptômes donnés (strings).\n",
    "    :param df: DataFrame contenant les colonnes des symptômes (tous les symptômes possibles).\n",
    "    :param model: Modèle entraîné.\n",
    "    :param label_encoder: Encodeur pour décoder la maladie prédite.\n",
    "    :return: Nom de la maladie prédite et certitude associée.\n",
    "    \"\"\"\n",
    "    # Obtenir les colonnes des symptômes\n",
    "    symptom_columns = df.columns[1:]  # Exclure la colonne 'Disease'\n",
    "    \n",
    "    # Encoder les symptômes donnés en un vecteur binaire\n",
    "    encoded_vector = np.zeros(len(symptom_columns))\n",
    "    for symptom in symptoms_list:\n",
    "        if symptom in symptom_columns:\n",
    "            encoded_vector[symptom_columns.get_loc(symptom)] = 1\n",
    "\n",
    "    print(encoded_vector)\n",
    "    # Faire la prédiction\n",
    "    probabilities = model.predict(encoded_vector.reshape(1, -1))\n",
    "    predicted_label = np.argmax(probabilities)\n",
    "    predicted_disease = label_encoder.inverse_transform([predicted_label])[0]\n",
    "    \n",
    "    # Certitude (probabilité associée à la classe prédite)\n",
    "    certainty = probabilities[0][predicted_label]\n",
    "\n",
    "    return predicted_disease, certainty\n"
   ]
  },
  {
   "cell_type": "code",
   "execution_count": 121,
   "metadata": {},
   "outputs": [
    {
     "name": "stdout",
     "output_type": "stream",
     "text": [
      "\u001b[1m1/1\u001b[0m \u001b[32m━━━━━━━━━━━━━━━━━━━━\u001b[0m\u001b[37m\u001b[0m \u001b[1m0s\u001b[0m 22ms/step\n",
      "Symptômes donnés :\n",
      "- skin_rash\n",
      "- itching\n",
      "- nodal_skin_eruptions\n",
      "- dischromic_patches\n",
      "\n",
      "Maladie prédite : Fungal infection\n",
      "Certitude du modèle : 99.97%\n",
      "\u001b[1m1/1\u001b[0m \u001b[32m━━━━━━━━━━━━━━━━━━━━\u001b[0m\u001b[37m\u001b[0m \u001b[1m0s\u001b[0m 9ms/step\n",
      "Symptômes donnés :\n",
      "- skin_rash\n",
      "- itching\n",
      "- nodal_skin_eruptions\n",
      "\n",
      "Maladie prédite : Fungal infection\n",
      "Certitude du modèle : 99.22%\n",
      "\u001b[1m1/1\u001b[0m \u001b[32m━━━━━━━━━━━━━━━━━━━━\u001b[0m\u001b[37m\u001b[0m \u001b[1m0s\u001b[0m 9ms/step\n",
      "Symptômes donnés :\n",
      "- skin_rash\n",
      "- itching\n",
      "\n",
      "Maladie prédite : Fungal infection\n",
      "Certitude du modèle : 49.40%\n",
      "\u001b[1m1/1\u001b[0m \u001b[32m━━━━━━━━━━━━━━━━━━━━\u001b[0m\u001b[37m\u001b[0m \u001b[1m0s\u001b[0m 9ms/step\n",
      "Symptômes donnés :\n",
      "- skin_rash\n",
      "\n",
      "Maladie prédite : Acne\n",
      "Certitude du modèle : 18.91%\n",
      "\u001b[1m1/1\u001b[0m \u001b[32m━━━━━━━━━━━━━━━━━━━━\u001b[0m\u001b[37m\u001b[0m \u001b[1m0s\u001b[0m 9ms/step\n",
      "Symptômes donnés :\n",
      "- itching\n",
      "\n",
      "Maladie prédite : Fungal infection\n",
      "Certitude du modèle : 29.89%\n"
     ]
    }
   ],
   "source": [
    "# Symptômes donnés pour le test\n",
    "example_symptoms = [\"skin_rash\", \"itching\", \"nodal_skin_eruptions\",\"dischromic_patches\"]\n",
    "\n",
    "# Prédiction avec certitude\n",
    "predicted_disease, certainty = predict_disease_with_certainty(example_symptoms, df, model, label_encoder)\n",
    "\n",
    "# Affichage des résultats\n",
    "print(\"Symptômes donnés :\")\n",
    "for symptom in example_symptoms:\n",
    "    print(f\"- {symptom}\")\n",
    "print(f\"\\nMaladie prédite : {predicted_disease}\")\n",
    "print(f\"Certitude du modèle : {certainty * 100:.2f}%\")\n",
    "\n",
    "# Symptômes donnés pour le test\n",
    "example_symptoms = [\"skin_rash\", \"itching\", \"nodal_skin_eruptions\"]\n",
    "\n",
    "# Prédiction avec certitude\n",
    "predicted_disease, certainty = predict_disease_with_certainty(example_symptoms, df, model, label_encoder)\n",
    "\n",
    "# Affichage des résultats\n",
    "print(\"Symptômes donnés :\")\n",
    "for symptom in example_symptoms:\n",
    "    print(f\"- {symptom}\")\n",
    "print(f\"\\nMaladie prédite : {predicted_disease}\")\n",
    "print(f\"Certitude du modèle : {certainty * 100:.2f}%\")\n",
    "\n",
    "# Symptômes donnés pour le test\n",
    "example_symptoms = [\"skin_rash\", \"itching\"]\n",
    "\n",
    "# Prédiction avec certitude\n",
    "predicted_disease, certainty = predict_disease_with_certainty(example_symptoms, df, model, label_encoder)\n",
    "\n",
    "# Affichage des résultats\n",
    "print(\"Symptômes donnés :\")\n",
    "for symptom in example_symptoms:\n",
    "    print(f\"- {symptom}\")\n",
    "print(f\"\\nMaladie prédite : {predicted_disease}\")\n",
    "print(f\"Certitude du modèle : {certainty * 100:.2f}%\")\n",
    "\n",
    "# Symptômes donnés pour le test\n",
    "example_symptoms = [\"skin_rash\"]\n",
    "\n",
    "# Prédiction avec certitude\n",
    "predicted_disease, certainty = predict_disease_with_certainty(example_symptoms, df, model, label_encoder)\n",
    "\n",
    "# Affichage des résultats\n",
    "print(\"Symptômes donnés :\")\n",
    "for symptom in example_symptoms:\n",
    "    print(f\"- {symptom}\")\n",
    "print(f\"\\nMaladie prédite : {predicted_disease}\")\n",
    "print(f\"Certitude du modèle : {certainty * 100:.2f}%\")\n",
    "\n",
    "# Symptômes donnés pour le test\n",
    "example_symptoms = [\"itching\"]\n",
    "\n",
    "# Prédiction avec certitude\n",
    "predicted_disease, certainty = predict_disease_with_certainty(example_symptoms, df, model, label_encoder)\n",
    "\n",
    "# Affichage des résultats\n",
    "print(\"Symptômes donnés :\")\n",
    "for symptom in example_symptoms:\n",
    "    print(f\"- {symptom}\")\n",
    "print(f\"\\nMaladie prédite : {predicted_disease}\")\n",
    "print(f\"Certitude du modèle : {certainty * 100:.2f}%\")"
   ]
  },
  {
   "cell_type": "markdown",
   "metadata": {},
   "source": [
    "# Test"
   ]
  },
  {
   "cell_type": "code",
   "execution_count": 136,
   "metadata": {},
   "outputs": [
    {
     "name": "stdout",
     "output_type": "stream",
     "text": [
      "Index(['mucoid_sputum', 'pain_during_bowel_movements', 'anxiety',\n",
      "       'pain_behind_the_eyes', 'brittle_nails', 'bladder_discomfort',\n",
      "       'unsteadiness', 'increased_appetite', 'polyuria', 'hip_joint_pain',\n",
      "       ...\n",
      "       'foul_smell_of_urine', 'runny_nose', 'knee_pain', 'headache',\n",
      "       'weight_loss', 'loss_of_smell', 'spotting_urination', 'blackheads',\n",
      "       'skin_peeling', 'spinning_movements'],\n",
      "      dtype='object', length=131)\n",
      "brittle_nails\n"
     ]
    }
   ],
   "source": [
    "symptom_columns = df.columns[1:]\n",
    "print(symptom_columns)\n",
    "print(symptom_columns[4])\n",
    "\n",
    "import pickle\n",
    "\n",
    "with open('symptom_columns.pkl', 'wb') as f:\n",
    "    pickle.dump(symptom_columns, f)"
   ]
  },
  {
   "cell_type": "markdown",
   "metadata": {},
   "source": [
    "Si je prédit une maladie avec exactement le bon nombre de symptome la certitude est quasit parfaite. Par exemple pour Symptômes donnés :"
   ]
  },
  {
   "cell_type": "code",
   "execution_count": 134,
   "metadata": {},
   "outputs": [
    {
     "name": "stdout",
     "output_type": "stream",
     "text": [
      "[0. 0. 0. 0. 0. 0. 0. 0. 0. 0. 0. 0. 0. 0. 0. 0. 0. 0. 0. 0. 0. 0. 0. 0.\n",
      " 0. 0. 0. 0. 0. 0. 0. 0. 0. 0. 0. 0. 0. 0. 0. 0. 0. 0. 0. 0. 0. 0. 0. 1.\n",
      " 0. 0. 0. 0. 1. 0. 0. 0. 0. 0. 0. 0. 0. 0. 0. 0. 0. 0. 0. 0. 0. 0. 0. 0.\n",
      " 0. 0. 0. 0. 0. 0. 0. 0. 0. 0. 0. 0. 0. 0. 0. 0. 0. 0. 0. 0. 0. 0. 0. 0.\n",
      " 0. 0. 0. 0. 0. 0. 0. 1. 0. 0. 0. 0. 0. 0. 0. 0. 0. 0. 0. 0. 0. 0. 0. 0.\n",
      " 0. 0. 0. 0. 0. 0. 0. 0. 0. 0. 0.]\n",
      "\u001b[1m1/1\u001b[0m \u001b[32m━━━━━━━━━━━━━━━━━━━━\u001b[0m\u001b[37m\u001b[0m \u001b[1m0s\u001b[0m 10ms/step\n",
      "Symptômes donnés :\n",
      "- skin_rash\n",
      "- itching\n",
      "- nodal_skin_eruptions\n",
      "\n",
      "Maladie prédite : Fungal infection\n",
      "Certitude du modèle : 99.22%\n"
     ]
    }
   ],
   "source": [
    "# Symptômes donnés pour le test\n",
    "example_symptoms = [\"skin_rash\", \"itching\", \"nodal_skin_eruptions\"]\n",
    "\n",
    "# Prédiction avec certitude\n",
    "predicted_disease, certainty = predict_disease_with_certainty(example_symptoms, df, model, label_encoder)\n",
    "\n",
    "# Affichage des résultats\n",
    "print(\"Symptômes donnés :\")\n",
    "for symptom in example_symptoms:\n",
    "    print(f\"- {symptom}\")\n",
    "print(f\"\\nMaladie prédite : {predicted_disease}\")\n",
    "print(f\"Certitude du modèle : {certainty * 100:.2f}%\")\n"
   ]
  },
  {
   "cell_type": "markdown",
   "metadata": {},
   "source": [
    "Par contre si j'essaye de prédire une maladie avec uniquement une partie des symptomes, la certitude diminue."
   ]
  },
  {
   "cell_type": "code",
   "execution_count": 123,
   "metadata": {},
   "outputs": [
    {
     "name": "stdout",
     "output_type": "stream",
     "text": [
      "\u001b[1m1/1\u001b[0m \u001b[32m━━━━━━━━━━━━━━━━━━━━\u001b[0m\u001b[37m\u001b[0m \u001b[1m0s\u001b[0m 9ms/step\n",
      "Symptômes donnés :\n",
      "- skin_rash\n",
      "- itching\n",
      "\n",
      "Maladie prédite : Fungal infection\n",
      "Certitude du modèle : 49.40%\n"
     ]
    }
   ],
   "source": [
    "# Symptômes donnés pour le test\n",
    "example_symptoms = [\"skin_rash\", \"itching\"]\n",
    "\n",
    "# Prédiction avec certitude\n",
    "predicted_disease, certainty = predict_disease_with_certainty(example_symptoms, df, model, label_encoder)\n",
    "\n",
    "# Affichage des résultats\n",
    "print(\"Symptômes donnés :\")\n",
    "for symptom in example_symptoms:\n",
    "    print(f\"- {symptom}\")\n",
    "print(f\"\\nMaladie prédite : {predicted_disease}\")\n",
    "print(f\"Certitude du modèle : {certainty * 100:.2f}%\")"
   ]
  },
  {
   "cell_type": "code",
   "execution_count": 126,
   "metadata": {},
   "outputs": [
    {
     "name": "stdout",
     "output_type": "stream",
     "text": [
      "\u001b[1m1/1\u001b[0m \u001b[32m━━━━━━━━━━━━━━━━━━━━\u001b[0m\u001b[37m\u001b[0m \u001b[1m0s\u001b[0m 35ms/step\n",
      "Symptômes donnés :\n",
      "- fatigue\n",
      "- high_fever\n",
      "- cough\n",
      "- breathlessness\n",
      "\n",
      "Maladie prédite : Bronchial Asthma\n",
      "Certitude du modèle : 95.55%\n"
     ]
    }
   ],
   "source": [
    "# Symptômes donnés pour le test\n",
    "example_symptoms = ['fatigue', 'high_fever', 'cough', 'breathlessness']\n",
    "\n",
    "# Prédiction avec certitude\n",
    "predicted_disease, certainty = predict_disease_with_certainty(example_symptoms, df, model, label_encoder)\n",
    "\n",
    "# Affichage des résultats\n",
    "print(\"Symptômes donnés :\")\n",
    "for symptom in example_symptoms:\n",
    "    print(f\"- {symptom}\")\n",
    "print(f\"\\nMaladie prédite : {predicted_disease}\")\n",
    "print(f\"Certitude du modèle : {certainty * 100:.2f}%\")"
   ]
  },
  {
   "cell_type": "markdown",
   "metadata": {},
   "source": [
    "# Sauvegarde du modèle"
   ]
  },
  {
   "cell_type": "code",
   "execution_count": null,
   "metadata": {},
   "outputs": [
    {
     "name": "stdout",
     "output_type": "stream",
     "text": [
      "Modèle et encodeur sauvegardés sous 'disease_prediction_model.pkl' et 'label_encoder.pkl'\n"
     ]
    }
   ],
   "source": [
    "# import joblib\n",
    "\n",
    "# # Sauvegarder le modèle et le label encoder\n",
    "# joblib.dump(model, 'disease_prediction_model.pkl')  # Sauvegarder le modèle\n",
    "# joblib.dump(label_encoder, 'label_encoder.pkl')  # Sauvegarder l'encodeur de labels\n",
    "# print(\"Modèle et encodeur sauvegardés sous 'disease_prediction_model.pkl' et 'label_encoder.pkl'\")\n"
   ]
  }
 ],
 "metadata": {
  "kernelspec": {
   "display_name": "Python 3",
   "language": "python",
   "name": "python3"
  },
  "language_info": {
   "codemirror_mode": {
    "name": "ipython",
    "version": 3
   },
   "file_extension": ".py",
   "mimetype": "text/x-python",
   "name": "python",
   "nbconvert_exporter": "python",
   "pygments_lexer": "ipython3",
   "version": "3.11.5"
  }
 },
 "nbformat": 4,
 "nbformat_minor": 2
}
